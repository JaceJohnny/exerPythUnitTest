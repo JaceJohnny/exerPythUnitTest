{
 "cells": [
  {
   "cell_type": "code",
   "execution_count": null,
   "id": "49e01c1e",
   "metadata": {},
   "outputs": [],
   "source": [
    "import unittest\n",
    "import calc\n",
    "\n",
    "class TestCalc(unittest.testcase):\n",
    "    \n",
    "    def test_add(self):\n",
    "        result = calc.add(10,5)\n",
    "        self.assertEqual(result,15)"
   ]
  }
 ],
 "metadata": {
  "kernelspec": {
   "display_name": "Python 3",
   "language": "python",
   "name": "python3"
  },
  "language_info": {
   "codemirror_mode": {
    "name": "ipython",
    "version": 3
   },
   "file_extension": ".py",
   "mimetype": "text/x-python",
   "name": "python",
   "nbconvert_exporter": "python",
   "pygments_lexer": "ipython3",
   "version": "3.8.8"
  }
 },
 "nbformat": 4,
 "nbformat_minor": 5
}
