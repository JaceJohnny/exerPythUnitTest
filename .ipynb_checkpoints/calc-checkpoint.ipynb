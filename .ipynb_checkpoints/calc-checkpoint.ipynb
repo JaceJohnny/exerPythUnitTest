{
 "cells": [
  {
   "cell_type": "code",
   "execution_count": 1,
   "id": "19c303e8",
   "metadata": {},
   "outputs": [
    {
     "name": "stdout",
     "output_type": "stream",
     "text": [
      "15\n"
     ]
    }
   ],
   "source": [
    "def add (x,y):\n",
    "    return x + y\n",
    "\n",
    "def subtract (x,y):\n",
    "    return x - y\n",
    "\n",
    "def multiply (x,y):\n",
    "    return x * y\n",
    "\n",
    "def divide (x,y):\n",
    "    if y == 0:\n",
    "        raise ValueError('Can not divide by zero!')\n",
    "    return x/y\n",
    "\n"
   ]
  },
  {
   "cell_type": "code",
   "execution_count": null,
   "id": "b68fbdc3",
   "metadata": {},
   "outputs": [],
   "source": []
  }
 ],
 "metadata": {
  "kernelspec": {
   "display_name": "Python 3",
   "language": "python",
   "name": "python3"
  },
  "language_info": {
   "codemirror_mode": {
    "name": "ipython",
    "version": 3
   },
   "file_extension": ".py",
   "mimetype": "text/x-python",
   "name": "python",
   "nbconvert_exporter": "python",
   "pygments_lexer": "ipython3",
   "version": "3.8.8"
  }
 },
 "nbformat": 4,
 "nbformat_minor": 5
}
